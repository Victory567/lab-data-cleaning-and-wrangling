{
  "cells": [
    {
      "cell_type": "markdown",
      "metadata": {
        "id": "view-in-github",
        "colab_type": "text"
      },
      "source": [
        "<a href=\"https://colab.research.google.com/github/Victory567/lab-data-cleaning-and-wrangling/blob/master/Untitled3.ipynb\" target=\"_parent\"><img src=\"https://colab.research.google.com/assets/colab-badge.svg\" alt=\"Open In Colab\"/></a>"
      ]
    },
    {
      "cell_type": "code",
      "execution_count": null,
      "id": "6b2edf54",
      "metadata": {
        "id": "6b2edf54"
      },
      "outputs": [],
      "source": [
        "import pandas as pd\n",
        "import numpy as np\n",
        "import datetime\n",
        "import warnings\n",
        "import matplotlib.pyplot as plt\n",
        "import seaborn as sns\n",
        "from sklearn.preprocessing import MinMaxScaler\n",
        "from sklearn.preprocessing import LabelEncoder\n",
        "from sklearn.preprocessing import OneHotEncoder"
      ]
    },
    {
      "cell_type": "code",
      "execution_count": null,
      "id": "cc65f91c",
      "metadata": {
        "id": "cc65f91c"
      },
      "outputs": [],
      "source": [
        "df = pd.read_csv('we_fn_use_c_marketing_customer_value_analysis.csv')"
      ]
    },
    {
      "cell_type": "code",
      "execution_count": null,
      "id": "90f45006",
      "metadata": {
        "id": "90f45006"
      },
      "outputs": [],
      "source": [
        "#The copy() method creates a new DataFrame with the same data and column names as the original, but with a new memory address. \n",
        "#This way, i can perform data wrangling operations on the copy of the DataFrame without modifying the original DataFrame."
      ]
    },
    {
      "cell_type": "code",
      "execution_count": null,
      "id": "3bc781da",
      "metadata": {
        "id": "3bc781da"
      },
      "outputs": [],
      "source": [
        "df = pd.read_csv('we_fn_use_c_marketing_customer_value_analysis.csv')\n",
        "\n",
        "df_copy = df.copy()"
      ]
    },
    {
      "cell_type": "code",
      "execution_count": null,
      "id": "11b04990",
      "metadata": {
        "id": "11b04990"
      },
      "outputs": [],
      "source": [
        "#Then, i selected the continuous variables that we want to normalize, which are stored in the continuous_vars list. \n",
        "#Next,i created a MinMaxScaler object called scaler. \n",
        "#Finally, i normalized the continuous variables in the DataFrame by calling the fit_transform() method \n",
        "#on the selected columns and assigning the result back to those columns in the DataFrame."
      ]
    },
    {
      "cell_type": "code",
      "execution_count": null,
      "id": "87077170",
      "metadata": {
        "id": "87077170"
      },
      "outputs": [],
      "source": [
        "# Select the continuous variables to be normalized\n",
        "continuous_vars = ['Customer Lifetime Value', 'Income', 'Monthly Premium Auto', 'Months Since Last Claim', 'Months Since Policy Inception', 'Number of Open Complaints', 'Number of Policies', 'Total Claim Amount']\n",
        "\n",
        "# Create a MinMaxScaler object\n",
        "scaler = MinMaxScaler()\n",
        "\n",
        "# Normalize the continuous variables\n",
        "df[continuous_vars] = scaler.fit_transform(df[continuous_vars])\n"
      ]
    },
    {
      "cell_type": "code",
      "execution_count": null,
      "id": "6d816431",
      "metadata": {
        "id": "6d816431"
      },
      "outputs": [],
      "source": [
        "#Then, we selected the categorical variables that we want to encode \n",
        "#which are stored in the categorical_vars list. \n",
        "#Next, we created a LabelEncoder object called le. \n",
        "#Finally, we encoded the categorical variables in the DataFrame \n",
        "#by looping over each variable in the list, calling the fit_transform() method on each variable,"
      ]
    },
    {
      "cell_type": "code",
      "execution_count": null,
      "id": "f5644962",
      "metadata": {
        "id": "f5644962"
      },
      "outputs": [],
      "source": [
        "categorical_vars = ['Customer', 'State', 'Response', 'Coverage', 'Education', 'EmploymentStatus', 'Gender', 'Location Code', 'Marital Status', 'Policy Type', 'Policy', 'Renew Offer Type', 'Sales Channel', 'Vehicle Class', 'Vehicle Size']\n",
        "le = LabelEncoder()\n",
        "for var in categorical_vars:\n",
        "    df[var] = le.fit_transform(df[var])"
      ]
    },
    {
      "cell_type": "code",
      "execution_count": null,
      "id": "8366e5d4",
      "metadata": {
        "id": "8366e5d4"
      },
      "outputs": [],
      "source": [
        "# I converted the 'Effective To Date' column from a string format to a datetime object using the to_datetime() method. \n",
        "#I used the dt accessor to extract the year, month, and day from the datetime object \n",
        "#and then i created new columns in the DataFrame for each of these features. \n",
        "#This way,i can use these features for time-based analysis and modeling."
      ]
    },
    {
      "cell_type": "code",
      "execution_count": null,
      "id": "2d71e539",
      "metadata": {
        "id": "2d71e539"
      },
      "outputs": [],
      "source": [
        "df['Effective To Date'] = pd.to_datetime(df['Effective To Date'])\n",
        "df['Year'] = df['Effective To Date'].dt.year\n",
        "df['Month'] = df['Effective To Date'].dt.month\n",
        "df['Day'] = df['Effective To Date'].dt.day\n"
      ]
    },
    {
      "cell_type": "code",
      "execution_count": null,
      "id": "d1737516",
      "metadata": {
        "id": "d1737516"
      },
      "outputs": [],
      "source": [
        "#I used the select_dtypes() method to identify the non-numerical columns in the DataFrame \n",
        "#and store their names in a list called non_numeric_cols\n",
        "#i then looped over each non-numerical column, used the OneHotEncoder() method to encode the column, \n",
        "#and concatenated the encoded columns to the original DataFrame. \n",
        "#Finally, i dropped the original non-numerical column from the DataFrame since it's no longer needed after the one-hot encoding"
      ]
    },
    {
      "cell_type": "code",
      "execution_count": null,
      "id": "85be1e74",
      "metadata": {
        "id": "85be1e74",
        "outputId": "e3bf7234-5960-4553-f641-16c23ab1851c"
      },
      "outputs": [
        {
          "name": "stdout",
          "output_type": "stream",
          "text": [
            "[]\n"
          ]
        }
      ],
      "source": [
        "# i Check for non-numerical columns here\n",
        "non_numeric_cols = df.select_dtypes(exclude=['float', 'int', 'datetime']).columns.tolist()\n",
        "print(non_numeric_cols)\n",
        "\n",
        "# Then i encode non-numerical columns using one-hot encoding\n",
        "encoder = OneHotEncoder()\n",
        "for col in non_numeric_cols:\n",
        "    encoded_cols = pd.DataFrame(encoder.fit_transform(df[[col]]).toarray(), columns=[col+'_'+str(i) for i in range(encoder.categories_[0].size)])\n",
        "    df = pd.concat([df, encoded_cols], axis=1)\n",
        "    df.drop(col, axis=1, inplace=True)"
      ]
    },
    {
      "cell_type": "code",
      "execution_count": null,
      "id": "3f3124bd",
      "metadata": {
        "id": "3f3124bd"
      },
      "outputs": [],
      "source": []
    }
  ],
  "metadata": {
    "kernelspec": {
      "display_name": "Python 3 (ipykernel)",
      "language": "python",
      "name": "python3"
    },
    "language_info": {
      "codemirror_mode": {
        "name": "ipython",
        "version": 3
      },
      "file_extension": ".py",
      "mimetype": "text/x-python",
      "name": "python",
      "nbconvert_exporter": "python",
      "pygments_lexer": "ipython3",
      "version": "3.9.12"
    },
    "colab": {
      "provenance": [],
      "include_colab_link": true
    }
  },
  "nbformat": 4,
  "nbformat_minor": 5
}