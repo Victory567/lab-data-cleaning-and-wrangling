{
  "cells": [
    {
      "cell_type": "markdown",
      "metadata": {
        "id": "view-in-github",
        "colab_type": "text"
      },
      "source": [
        "<a href=\"https://colab.research.google.com/github/Victory567/lab-data-cleaning-and-wrangling/blob/master/Untitled2_(1).ipynb\" target=\"_parent\"><img src=\"https://colab.research.google.com/assets/colab-badge.svg\" alt=\"Open In Colab\"/></a>"
      ]
    },
    {
      "cell_type": "code",
      "execution_count": null,
      "id": "769e6229",
      "metadata": {
        "id": "769e6229"
      },
      "outputs": [],
      "source": [
        "import pandas as pd\n",
        "import numpy as np\n",
        "import datetime\n",
        "import warnings\n",
        "import matplotlib.pyplot as plt\n",
        "import seaborn as sns\n",
        "from sklearn.preprocessing import MinMaxScaler"
      ]
    },
    {
      "cell_type": "code",
      "execution_count": null,
      "id": "7232bb8b",
      "metadata": {
        "id": "7232bb8b"
      },
      "outputs": [],
      "source": [
        "df = pd.read_csv('we_fn_use_c_marketing_customer_value_analysis.csv')"
      ]
    },
    {
      "cell_type": "code",
      "execution_count": null,
      "id": "2cc073ee",
      "metadata": {
        "id": "2cc073ee",
        "outputId": "5ad9d5ce-1371-4c79-c0fa-78125ce0c743"
      },
      "outputs": [
        {
          "data": {
            "text/html": [
              "<div>\n",
              "<style scoped>\n",
              "    .dataframe tbody tr th:only-of-type {\n",
              "        vertical-align: middle;\n",
              "    }\n",
              "\n",
              "    .dataframe tbody tr th {\n",
              "        vertical-align: top;\n",
              "    }\n",
              "\n",
              "    .dataframe thead th {\n",
              "        text-align: right;\n",
              "    }\n",
              "</style>\n",
              "<table border=\"1\" class=\"dataframe\">\n",
              "  <thead>\n",
              "    <tr style=\"text-align: right;\">\n",
              "      <th></th>\n",
              "      <th>0</th>\n",
              "      <th>1</th>\n",
              "      <th>2</th>\n",
              "    </tr>\n",
              "  </thead>\n",
              "  <tbody>\n",
              "    <tr>\n",
              "      <th>0</th>\n",
              "      <td>0.422222</td>\n",
              "      <td>-0.550881</td>\n",
              "      <td>0.156691</td>\n",
              "    </tr>\n",
              "    <tr>\n",
              "      <th>1</th>\n",
              "      <td>1.157367</td>\n",
              "      <td>0.655230</td>\n",
              "      <td>0.185892</td>\n",
              "    </tr>\n",
              "    <tr>\n",
              "      <th>2</th>\n",
              "      <td>0.134923</td>\n",
              "      <td>-0.801095</td>\n",
              "      <td>0.415732</td>\n",
              "    </tr>\n",
              "    <tr>\n",
              "      <th>3</th>\n",
              "      <td>1.352093</td>\n",
              "      <td>1.881590</td>\n",
              "      <td>0.877073</td>\n",
              "    </tr>\n",
              "    <tr>\n",
              "      <th>4</th>\n",
              "      <td>0.505024</td>\n",
              "      <td>0.255781</td>\n",
              "      <td>0.263105</td>\n",
              "    </tr>\n",
              "    <tr>\n",
              "      <th>...</th>\n",
              "      <td>...</td>\n",
              "      <td>...</td>\n",
              "      <td>...</td>\n",
              "    </tr>\n",
              "    <tr>\n",
              "      <th>95</th>\n",
              "      <td>-1.332813</td>\n",
              "      <td>-0.076146</td>\n",
              "      <td>-0.838260</td>\n",
              "    </tr>\n",
              "    <tr>\n",
              "      <th>96</th>\n",
              "      <td>1.242079</td>\n",
              "      <td>-0.904886</td>\n",
              "      <td>-0.127631</td>\n",
              "    </tr>\n",
              "    <tr>\n",
              "      <th>97</th>\n",
              "      <td>-1.328125</td>\n",
              "      <td>0.893306</td>\n",
              "      <td>1.435426</td>\n",
              "    </tr>\n",
              "    <tr>\n",
              "      <th>98</th>\n",
              "      <td>1.363954</td>\n",
              "      <td>0.220512</td>\n",
              "      <td>-0.176234</td>\n",
              "    </tr>\n",
              "    <tr>\n",
              "      <th>99</th>\n",
              "      <td>-0.448078</td>\n",
              "      <td>0.537004</td>\n",
              "      <td>0.375873</td>\n",
              "    </tr>\n",
              "  </tbody>\n",
              "</table>\n",
              "<p>99 rows × 3 columns</p>\n",
              "</div>"
            ],
            "text/plain": [
              "           0         1         2\n",
              "0   0.422222 -0.550881  0.156691\n",
              "1   1.157367  0.655230  0.185892\n",
              "2   0.134923 -0.801095  0.415732\n",
              "3   1.352093  1.881590  0.877073\n",
              "4   0.505024  0.255781  0.263105\n",
              "..       ...       ...       ...\n",
              "95 -1.332813 -0.076146 -0.838260\n",
              "96  1.242079 -0.904886 -0.127631\n",
              "97 -1.328125  0.893306  1.435426\n",
              "98  1.363954  0.220512 -0.176234\n",
              "99 -0.448078  0.537004  0.375873\n",
              "\n",
              "[99 rows x 3 columns]"
            ]
          },
          "execution_count": 10,
          "metadata": {},
          "output_type": "execute_result"
        }
      ],
      "source": [
        "df = pd.DataFrame(np.random.randn(100, 3))\n",
        "\n",
        "import numpy as np\n",
        "from scipy import stats\n",
        "df[(np.abs(stats.zscore(df)) < 3).all(axis=1)]"
      ]
    },
    {
      "cell_type": "code",
      "execution_count": null,
      "id": "5006baa1",
      "metadata": {
        "id": "5006baa1",
        "outputId": "f0e208e7-e5e1-4809-d72c-1329f5ac285d"
      },
      "outputs": [
        {
          "data": {
            "text/html": [
              "<div>\n",
              "<style scoped>\n",
              "    .dataframe tbody tr th:only-of-type {\n",
              "        vertical-align: middle;\n",
              "    }\n",
              "\n",
              "    .dataframe tbody tr th {\n",
              "        vertical-align: top;\n",
              "    }\n",
              "\n",
              "    .dataframe thead th {\n",
              "        text-align: right;\n",
              "    }\n",
              "</style>\n",
              "<table border=\"1\" class=\"dataframe\">\n",
              "  <thead>\n",
              "    <tr style=\"text-align: right;\">\n",
              "      <th></th>\n",
              "      <th>Data</th>\n",
              "    </tr>\n",
              "  </thead>\n",
              "  <tbody>\n",
              "    <tr>\n",
              "      <th>0</th>\n",
              "      <td>0.149541</td>\n",
              "    </tr>\n",
              "    <tr>\n",
              "      <th>1</th>\n",
              "      <td>-0.119476</td>\n",
              "    </tr>\n",
              "    <tr>\n",
              "      <th>2</th>\n",
              "      <td>-1.379348</td>\n",
              "    </tr>\n",
              "    <tr>\n",
              "      <th>3</th>\n",
              "      <td>1.906499</td>\n",
              "    </tr>\n",
              "    <tr>\n",
              "      <th>4</th>\n",
              "      <td>1.436959</td>\n",
              "    </tr>\n",
              "    <tr>\n",
              "      <th>...</th>\n",
              "      <td>...</td>\n",
              "    </tr>\n",
              "    <tr>\n",
              "      <th>195</th>\n",
              "      <td>-1.092728</td>\n",
              "    </tr>\n",
              "    <tr>\n",
              "      <th>196</th>\n",
              "      <td>-0.514975</td>\n",
              "    </tr>\n",
              "    <tr>\n",
              "      <th>197</th>\n",
              "      <td>-1.562325</td>\n",
              "    </tr>\n",
              "    <tr>\n",
              "      <th>198</th>\n",
              "      <td>0.174759</td>\n",
              "    </tr>\n",
              "    <tr>\n",
              "      <th>199</th>\n",
              "      <td>-1.176120</td>\n",
              "    </tr>\n",
              "  </tbody>\n",
              "</table>\n",
              "<p>200 rows × 1 columns</p>\n",
              "</div>"
            ],
            "text/plain": [
              "         Data\n",
              "0    0.149541\n",
              "1   -0.119476\n",
              "2   -1.379348\n",
              "3    1.906499\n",
              "4    1.436959\n",
              "..        ...\n",
              "195 -1.092728\n",
              "196 -0.514975\n",
              "197 -1.562325\n",
              "198  0.174759\n",
              "199 -1.176120\n",
              "\n",
              "[200 rows x 1 columns]"
            ]
          },
          "execution_count": 9,
          "metadata": {},
          "output_type": "execute_result"
        }
      ],
      "source": [
        "df = pd.DataFrame({'Data':np.random.normal(size=200)})\n",
        "df[np.abs(df.Data-df.Data.mean()) <= (3*df.Data.std())]\n",
        "df[~(np.abs(df.Data-df.Data.mean()) > (3*df.Data.std()))]\n"
      ]
    },
    {
      "cell_type": "code",
      "execution_count": null,
      "id": "7d7692e2",
      "metadata": {
        "id": "7d7692e2"
      },
      "outputs": [],
      "source": [
        "def remove_outlier(df_in, col_name):\n",
        "    q1 = df_in[col_name].quantile(0.25)\n",
        "    q3 = df_in[col_name].quantile(0.75)\n",
        "    iqr = q3-q1 #Interquartile range\n",
        "    fence_low  = q1-1.5*iqr\n",
        "    fence_high = q3+1.5*iqr\n",
        "    df_out = df_in.loc[(df_in[col_name] > fence_low) & (df_in[col_name] < fence_high)]\n",
        "    return df_out"
      ]
    },
    {
      "cell_type": "code",
      "execution_count": null,
      "id": "d42dc25e",
      "metadata": {
        "id": "d42dc25e"
      },
      "outputs": [],
      "source": [
        "df = pd.DataFrame(\n",
        "[[4, 7, 10],\n",
        "[5, 8, 11],\n",
        "[6, 9, 12]],\n",
        "index=[1, 2, 3],\n",
        "columns=['a', 'b', 'c'])"
      ]
    },
    {
      "cell_type": "code",
      "execution_count": null,
      "id": "2bae2c8a",
      "metadata": {
        "id": "2bae2c8a"
      },
      "outputs": [],
      "source": [
        "X = df.select_dtypes(np.number)\n"
      ]
    },
    {
      "cell_type": "code",
      "execution_count": null,
      "id": "f3956a23",
      "metadata": {
        "id": "f3956a23"
      },
      "outputs": [],
      "source": [
        " scaler = MinMaxScaler()\n",
        "X_num_transform=scaler.fit_transform(X)"
      ]
    },
    {
      "cell_type": "code",
      "execution_count": null,
      "id": "1ee22ae5",
      "metadata": {
        "id": "1ee22ae5",
        "outputId": "f9b9a28c-1a25-4b58-86b0-2a69428457ef"
      },
      "outputs": [
        {
          "data": {
            "text/plain": [
              "array([[0. , 0. , 0. ],\n",
              "       [0.5, 0.5, 0.5],\n",
              "       [1. , 1. , 1. ]])"
            ]
          },
          "execution_count": 21,
          "metadata": {},
          "output_type": "execute_result"
        }
      ],
      "source": [
        "X_num_transform"
      ]
    },
    {
      "cell_type": "code",
      "execution_count": null,
      "id": "be40d7f2",
      "metadata": {
        "id": "be40d7f2",
        "outputId": "c8256895-75ee-4fba-add9-d74feafb78a3"
      },
      "outputs": [
        {
          "data": {
            "text/plain": [
              "False"
            ]
          },
          "execution_count": 29,
          "metadata": {},
          "output_type": "execute_result"
        }
      ],
      "source": [
        "import pandas as pd\n",
        ">>> df = pd.DataFrame({'numeric': [1, 2, 3], 'not_numeric': ['A', 'B', 'C']})\n",
        ">>> df['numeric'].dtype.kind in 'biufc'\n",
        ">>> True\n",
        ">>> df['not_numeric'].dtype.kind in 'biufc'\n",
        ">>> False"
      ]
    },
    {
      "cell_type": "code",
      "execution_count": null,
      "id": "6b208ab0",
      "metadata": {
        "id": "6b208ab0",
        "outputId": "3685e699-64ce-4c43-bfb4-58f299e36957"
      },
      "outputs": [
        {
          "name": "stdout",
          "output_type": "stream",
          "text": [
            "A    1\n",
            "B    1\n",
            "C    1\n",
            "Name: not_numeric, dtype: int64 \n",
            "\n"
          ]
        }
      ],
      "source": [
        "for col in df.select_dtypes('object'):\n",
        "    print(df[col].value_counts(), '\\n')"
      ]
    },
    {
      "cell_type": "code",
      "execution_count": null,
      "id": "6d0e912c",
      "metadata": {
        "id": "6d0e912c"
      },
      "outputs": [],
      "source": []
    },
    {
      "cell_type": "code",
      "execution_count": null,
      "id": "741477ac",
      "metadata": {
        "id": "741477ac"
      },
      "outputs": [],
      "source": []
    }
  ],
  "metadata": {
    "kernelspec": {
      "display_name": "Python 3 (ipykernel)",
      "language": "python",
      "name": "python3"
    },
    "language_info": {
      "codemirror_mode": {
        "name": "ipython",
        "version": 3
      },
      "file_extension": ".py",
      "mimetype": "text/x-python",
      "name": "python",
      "nbconvert_exporter": "python",
      "pygments_lexer": "ipython3",
      "version": "3.9.12"
    },
    "colab": {
      "provenance": [],
      "include_colab_link": true
    }
  },
  "nbformat": 4,
  "nbformat_minor": 5
}